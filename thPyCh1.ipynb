{
 "cells": [
  {
   "cell_type": "markdown",
   "metadata": {},
   "source": "Think Python 2 Outline:\n"
  },
  {
   "cell_type": "markdown",
   "metadata": {},
   "source": "Chapter 1"
  },
  {
   "cell_type": "markdown",
   "metadata": {},
   "source": "Problem solving: the ability to formulate problems, think creatively about solutions, and express a solution clearly and accurately.  The process of learning to program is an excellent opportunity to practice these skills."
  },
  {
   "cell_type": "markdown",
   "metadata": {},
   "source": "What is a Program?\n******\nWhat is it to you? ________________\n- input\n- output\n- math\n- conditional execution\n- repetition\n"
  },
  {
   "cell_type": "markdown",
   "metadata": {},
   "source": "The Environment that you write Python:\n***\n- directly into interpreter - the REPL\n- IDLE\n- web-based eg. PythonAnywhere\n- Local Development Environment, like Sublime Text or PyCharm\n- Local/web hybrid: Jupyter"
  },
  {
   "cell_type": "code",
   "execution_count": 3,
   "metadata": {},
   "outputs": [
    {
     "name": "stdout",
     "output_type": "stream",
     "text": "Hello World!\n"
    }
   ],
   "source": "#First Program!\nprint(\"Hello World!\")"
  },
  {
   "cell_type": "code",
   "execution_count": 6,
   "metadata": {},
   "outputs": [
    {
     "data": {
      "text/plain": "8"
     },
     "execution_count": 6,
     "metadata": {},
     "output_type": "execute_result"
    }
   ],
   "source": "#Arithmetic Operators:\n40+2\n6*7\n2**3 #This is exponentiation!\n#Fill in your own: ______________"
  },
  {
   "cell_type": "markdown",
   "metadata": {},
   "source": "#Values and Types:\n- String (str):\n- Integer (int):\n- Floating-point (float):\n- Binary (bin):\n- and more\n\n\n"
  },
  {
   "cell_type": "markdown",
   "metadata": {},
   "source": "Natural Languages vs. Formal Languages\n Parsing\n Ambiguity\n Redundancy\n literalness\n poetry/prose/programs\n\nSemantics vs. Syntax\n\n\n\n\nDebugging\n"
  },
  {
   "cell_type": "markdown",
   "metadata": {},
   "source": "*******\n---Exercises----\n***"
  },
  {
   "cell_type": "markdown",
   "metadata": {},
   "source": "Exercise 1\n- 1) In a print statement, what happens if you leave out one or both of the parentheses?\n- 2) If you are trying to print a string, what happens if you leave out one/both of the quotation marks (or apostrophes)?\n- 3) You can use a minus sign to make a negative number like -2. What happens if you put a plus sign before a number? What about 2++2?\n- 4) In math notation, leading zeros are ok, as in 09. What happens if you try this in Python? What about 011?\n- 5) What happens if you have two values with no operator between them?"
  },
  {
   "cell_type": "markdown",
   "metadata": {},
   "source": "Exercise 2\nSee text!"
  },
  {
   "cell_type": "code",
   "execution_count": null,
   "metadata": {},
   "outputs": [],
   "source": ""
  }
 ],
 "metadata": {
  "kernelspec": {
   "display_name": "Python 3",
   "language": "python",
   "name": "python3"
  },
  "language_info": {
   "codemirror_mode": {
    "name": "ipython",
    "version": 3
   },
   "file_extension": ".py",
   "mimetype": "text/x-python",
   "name": "python",
   "nbconvert_exporter": "python",
   "pygments_lexer": "ipython3",
   "version": "3.6.2"
  }
 },
 "nbformat": 4,
 "nbformat_minor": 4
}
